{
 "cells": [
  {
   "cell_type": "code",
   "execution_count": 5,
   "id": "d1a878b5",
   "metadata": {},
   "outputs": [],
   "source": [
    "import pandas as pd\n",
    "import torch\n",
    "import re\n",
    "import nltk\n",
    "from nltk.tokenize import word_tokenize\n",
    "from collections import defaultdict\n",
    "import torch\n",
    "import torch.nn as nn\n",
    "import torch.optim as optim\n",
    "from torch.utils.data import DataLoader, Dataset\n",
    "import numpy as np\n",
    "import random\n",
    "from scipy.sparse.linalg import svds\n",
    "from torch.nn.utils.rnn import pad_sequence\n",
    "from sklearn.metrics import accuracy_score, precision_score, recall_score, f1_score\n",
    "from collections import defaultdict\n",
    "from scipy.sparse import lil_matrix"
   ]
  },
  {
   "cell_type": "code",
   "execution_count": 6,
   "id": "612e16c3",
   "metadata": {},
   "outputs": [],
   "source": [
    "from model import EmbeddingTaskDataset, LSTMClassifier\n",
    "import torch.nn.functional as F\n"
   ]
  },
  {
   "cell_type": "code",
   "execution_count": 7,
   "id": "2bf581ed",
   "metadata": {},
   "outputs": [
    {
     "name": "stderr",
     "output_type": "stream",
     "text": [
      "[nltk_data] Downloading package punkt to /Users/ashnadua/nltk_data...\n",
      "[nltk_data]   Package punkt is already up-to-date!\n"
     ]
    },
    {
     "data": {
      "text/plain": [
       "True"
      ]
     },
     "execution_count": 7,
     "metadata": {},
     "output_type": "execute_result"
    }
   ],
   "source": [
    "nltk.download('punkt')\n"
   ]
  },
  {
   "cell_type": "code",
   "execution_count": 8,
   "id": "c4d49c64",
   "metadata": {},
   "outputs": [],
   "source": [
    "train_data = 'dataset/train.csv'\n",
    "test_data = 'dataset/test.csv'\n",
    "\n",
    "df_train = pd.read_csv(train_data)\n",
    "df_test = pd.read_csv(test_data)\n"
   ]
  },
  {
   "cell_type": "code",
   "execution_count": 9,
   "id": "1a931a84",
   "metadata": {},
   "outputs": [],
   "source": [
    "# df_train[\"Class Index\"]"
   ]
  },
  {
   "cell_type": "code",
   "execution_count": 10,
   "id": "aa30c2a7",
   "metadata": {},
   "outputs": [],
   "source": [
    "# for i in df_train[\"Class Index\"]:\n",
    "#     if i==0:\n",
    "#         print(i)"
   ]
  },
  {
   "cell_type": "code",
   "execution_count": 11,
   "id": "bb89744b",
   "metadata": {},
   "outputs": [
    {
     "data": {
      "text/html": [
       "<div>\n",
       "<style scoped>\n",
       "    .dataframe tbody tr th:only-of-type {\n",
       "        vertical-align: middle;\n",
       "    }\n",
       "\n",
       "    .dataframe tbody tr th {\n",
       "        vertical-align: top;\n",
       "    }\n",
       "\n",
       "    .dataframe thead th {\n",
       "        text-align: right;\n",
       "    }\n",
       "</style>\n",
       "<table border=\"1\" class=\"dataframe\">\n",
       "  <thead>\n",
       "    <tr style=\"text-align: right;\">\n",
       "      <th></th>\n",
       "      <th>Class Index</th>\n",
       "      <th>Description</th>\n",
       "    </tr>\n",
       "  </thead>\n",
       "  <tbody>\n",
       "    <tr>\n",
       "      <th>0</th>\n",
       "      <td>3</td>\n",
       "      <td>Reuters - Short-sellers, Wall Street's dwindli...</td>\n",
       "    </tr>\n",
       "    <tr>\n",
       "      <th>1</th>\n",
       "      <td>3</td>\n",
       "      <td>Reuters - Private investment firm Carlyle Grou...</td>\n",
       "    </tr>\n",
       "    <tr>\n",
       "      <th>2</th>\n",
       "      <td>3</td>\n",
       "      <td>Reuters - Soaring crude prices plus worries\\ab...</td>\n",
       "    </tr>\n",
       "    <tr>\n",
       "      <th>3</th>\n",
       "      <td>3</td>\n",
       "      <td>Reuters - Authorities have halted oil export\\f...</td>\n",
       "    </tr>\n",
       "    <tr>\n",
       "      <th>4</th>\n",
       "      <td>3</td>\n",
       "      <td>AFP - Tearaway world oil prices, toppling reco...</td>\n",
       "    </tr>\n",
       "  </tbody>\n",
       "</table>\n",
       "</div>"
      ],
      "text/plain": [
       "   Class Index                                        Description\n",
       "0            3  Reuters - Short-sellers, Wall Street's dwindli...\n",
       "1            3  Reuters - Private investment firm Carlyle Grou...\n",
       "2            3  Reuters - Soaring crude prices plus worries\\ab...\n",
       "3            3  Reuters - Authorities have halted oil export\\f...\n",
       "4            3  AFP - Tearaway world oil prices, toppling reco..."
      ]
     },
     "execution_count": 11,
     "metadata": {},
     "output_type": "execute_result"
    }
   ],
   "source": [
    "df_train.head()\n"
   ]
  },
  {
   "cell_type": "code",
   "execution_count": 12,
   "id": "d77bc5ef",
   "metadata": {},
   "outputs": [],
   "source": [
    "def preprocess_text(text):\n",
    "    text = text.lower()\n",
    "    text = re.sub(r'\\W+', ' ', text)\n",
    "    text = re.sub(r'\\s+', ' ', text)\n",
    "    tokens = word_tokenize(text)\n",
    "    return ['<START>'] + tokens + ['<END>']\n"
   ]
  },
  {
   "cell_type": "code",
   "execution_count": 13,
   "id": "d1e5f586",
   "metadata": {},
   "outputs": [],
   "source": [
    "def build_vocab(corpus):\n",
    "    vocab = set()\n",
    "    for doc in corpus:\n",
    "        for word in doc:\n",
    "            vocab.add(word)\n",
    "    vocab_index = {word: i for i, word in enumerate(vocab)}\n",
    "    return vocab_index\n"
   ]
  },
  {
   "cell_type": "code",
   "execution_count": 14,
   "id": "56c8a913",
   "metadata": {},
   "outputs": [],
   "source": [
    "train_data_description = df_train[\"Description\"].tolist()[:20000]\n",
    "train_data_description = [preprocess_text(desc) for desc in train_data_description]\n",
    "\n",
    "test_data_description = df_test[\"Description\"].tolist()\n",
    "test_data_description = [preprocess_text(desc) for desc in test_data_description]\n"
   ]
  },
  {
   "cell_type": "code",
   "execution_count": 15,
   "id": "5ecf7026",
   "metadata": {},
   "outputs": [],
   "source": [
    "vocab_index = build_vocab(train_data_description)"
   ]
  },
  {
   "cell_type": "code",
   "execution_count": 16,
   "id": "0913f402",
   "metadata": {},
   "outputs": [],
   "source": [
    "class SVD_Embeddings:\n",
    "    def __init__(self, corpus, vocab_index, window_size=1):\n",
    "        self.corpus = corpus\n",
    "        self.vocab_index = vocab_index\n",
    "        self.window_size = window_size\n",
    "\n",
    "    def build_co_occurrence_matrix(self):\n",
    "        self.vocab_size = len(self.vocab_index)\n",
    "        co_occurrence_counts = defaultdict(float)\n",
    "\n",
    "        for doc in self.corpus:\n",
    "            doc_len = len(doc)\n",
    "            for i, word in enumerate(doc):\n",
    "                for j in range(i + 1, min(i + self.window_size + 1, doc_len)):\n",
    "                    co_occurrence_counts[(vocab_index[word], vocab_index[doc[j]])] += 1\n",
    "\n",
    "        self.co_occurrence_matrix = lil_matrix((self.vocab_size, self.vocab_size), dtype=np.float32)\n",
    "        for (word_i, word_j), count in co_occurrence_counts.items():\n",
    "            self.co_occurrence_matrix[word_i, word_j] = count\n",
    "\n",
    "        return self.co_occurrence_matrix\n",
    "\n",
    "    def svd_process(self, embedding_dims, saveFlag):\n",
    "        self.u, self.s, self.vt = svds(self.co_occurrence_matrix, k=100)\n",
    "        self.word_vectors = self.u\n",
    "\n",
    "        norms = np.linalg.norm(self.word_vectors, axis=1, keepdims=True)\n",
    "        norms[norms == 0] = 1e-8\n",
    "\n",
    "        word_vectors_normalized = self.word_vectors / norms\n",
    "        self.word_vectors_dict = {word: vector.tolist() for word, vector in zip(vocab_index, word_vectors_normalized)}\n",
    "\n",
    "        if saveFlag == 1:\n",
    "            self.save_embeddings()\n",
    "\n",
    "        return self.word_vectors_dict\n",
    "\n",
    "    def save_embeddings(self):\n",
    "        torch.save(self.word_vectors_dict, 'svd_word_vectors.pt')\n",
    "        \n",
    "    def load_embeddings(self, embeddings_path):\n",
    "        self.word_vectors_dict = torch.load(embeddings_path)\n"
   ]
  },
  {
   "cell_type": "code",
   "execution_count": 17,
   "id": "55c81b88",
   "metadata": {},
   "outputs": [],
   "source": [
    "embedding_dim = 100\n",
    "save_flag = 1\n",
    "window = 5"
   ]
  },
  {
   "cell_type": "code",
   "execution_count": 18,
   "id": "1fc95556",
   "metadata": {},
   "outputs": [],
   "source": [
    "svd = SVD_Embeddings(train_data_description, vocab_index, window)\n",
    "co_matrix = svd.build_co_occurrence_matrix()\n",
    "word_vectors_dict_svd = svd.svd_process(embedding_dim, save_flag)\n"
   ]
  },
  {
   "cell_type": "code",
   "execution_count": 24,
   "id": "c4db4e26",
   "metadata": {},
   "outputs": [],
   "source": [
    "svd.save_embeddings()"
   ]
  },
  {
   "cell_type": "code",
   "execution_count": 25,
   "id": "f81b0c42",
   "metadata": {},
   "outputs": [
    {
     "name": "stdout",
     "output_type": "stream",
     "text": [
      "cpu\n"
     ]
    }
   ],
   "source": [
    "device = torch.device('cuda' if torch.cuda.is_available() else 'cpu')\n",
    "print(device)"
   ]
  },
  {
   "cell_type": "code",
   "execution_count": 26,
   "id": "e38c8aa3",
   "metadata": {},
   "outputs": [],
   "source": [
    "labels = df_train[\"Class Index\"].tolist()[:20000]\n",
    "\n",
    "labels_test = df_test[\"Class Index\"].tolist()\n",
    "\n",
    "word_vectors_svd = np.array(list(word_vectors_dict_svd.values()))\n",
    "word_vectors_svd_tensor = torch.tensor(word_vectors_svd, dtype=torch.float32)\n"
   ]
  },
  {
   "cell_type": "code",
   "execution_count": 27,
   "id": "a567b104",
   "metadata": {},
   "outputs": [],
   "source": [
    "input_dim = len(vocab_index)\n",
    "embedding_dim = len(word_vectors_svd[0])\n",
    "hidden_dim = 128  # You may adjust this\n",
    "output_dim = df_train[\"Class Index\"].nunique()  # Number of unique classes\n",
    "batch_size = 128\n",
    "num_epochs = 10"
   ]
  },
  {
   "cell_type": "code",
   "execution_count": 28,
   "id": "376ca166",
   "metadata": {},
   "outputs": [],
   "source": [
    "train_dataset = EmbeddingTaskDataset(train_data_description, vocab_index, labels)\n",
    "train_loader = DataLoader(train_dataset, batch_size=batch_size, shuffle=True, collate_fn=train_dataset.collate_fn)\n",
    "\n",
    "test_dataset = EmbeddingTaskDataset(test_data_description, vocab_index, labels_test)\n",
    "test_loader = DataLoader(test_dataset, batch_size=batch_size, shuffle=True, collate_fn=test_dataset.collate_fn)\n"
   ]
  },
  {
   "cell_type": "code",
   "execution_count": 23,
   "id": "2fc85841",
   "metadata": {},
   "outputs": [],
   "source": [
    "model = LSTMClassifier(input_dim, embedding_dim, hidden_dim, output_dim, word_vectors_svd_tensor)\n",
    "criterion = nn.CrossEntropyLoss()\n",
    "optimizer = optim.Adam(model.parameters(), lr=0.001)\n",
    "\n",
    "model = model.to(device)"
   ]
  },
  {
   "cell_type": "code",
   "execution_count": 29,
   "id": "19ade819",
   "metadata": {},
   "outputs": [
    {
     "name": "stdout",
     "output_type": "stream",
     "text": [
      "Epoch 1, Loss: 1.257986165915325\n",
      "Epoch 2, Loss: 0.8894381227007337\n",
      "Epoch 3, Loss: 0.7800664218368044\n",
      "Epoch 4, Loss: 0.7372141765181426\n",
      "Epoch 5, Loss: 0.7118055619251956\n",
      "Epoch 6, Loss: 0.6992989334331197\n",
      "Epoch 7, Loss: 0.6889379149789263\n",
      "Epoch 8, Loss: 0.6833525455681382\n",
      "Epoch 9, Loss: 0.6778828645967374\n",
      "Epoch 10, Loss: 0.6725791829406835\n"
     ]
    }
   ],
   "source": [
    "model.train()\n",
    "for epoch in range(num_epochs):\n",
    "    running_loss = 0.0\n",
    "    for batch in train_loader:\n",
    "        optimizer.zero_grad()\n",
    "        inputs, targets = batch\n",
    "        inputs, targets = inputs.to(device), targets.to(device)\n",
    "        output = model(inputs)\n",
    "        loss = criterion(output, targets)\n",
    "        loss.backward()\n",
    "        optimizer.step()\n",
    "        running_loss += loss.item()\n",
    "    print(f'Epoch {epoch+1}, Loss: {running_loss / len(train_loader)}')"
   ]
  },
  {
   "cell_type": "code",
   "execution_count": 30,
   "id": "022ed856",
   "metadata": {},
   "outputs": [],
   "source": [
    "model.save_model(\"svd-classification-model.pt\")"
   ]
  },
  {
   "cell_type": "markdown",
   "id": "792089f6",
   "metadata": {},
   "source": [
    "## Test Metrics"
   ]
  },
  {
   "cell_type": "code",
   "execution_count": 31,
   "id": "ff0652f4",
   "metadata": {},
   "outputs": [],
   "source": [
    "import matplotlib.pyplot as plt\n",
    "from sklearn.metrics import confusion_matrix\n",
    "import seaborn as sns"
   ]
  },
  {
   "cell_type": "code",
   "execution_count": 1,
   "id": "ecd843af",
   "metadata": {},
   "outputs": [
    {
     "name": "stdout",
     "output_type": "stream",
     "text": [
      "Accuracy:  81.11842105263159\n",
      "Precision:  81.23127252696534\n",
      "Recall:  81.11842105263159\n",
      "F1 Macro:  81.11842105263159\n",
      "F1 Micro:  81.12894736842107\n"
     ]
    }
   ],
   "source": [
    "model.eval()\n",
    "\n",
    "all_labels = []\n",
    "all_predictions = []\n",
    "\n",
    "with torch.no_grad():\n",
    "    for texts, labels in test_loader:\n",
    "        texts = texts.to(device)\n",
    "        labels = labels.to(device)\n",
    "\n",
    "        predicted = model.predict(texts)\n",
    "\n",
    "        all_labels.extend(labels.cpu().numpy())\n",
    "        all_predictions.extend(predicted.cpu().numpy())\n",
    "\n",
    "accuracy = accuracy_score(all_labels, all_predictions)\n",
    "precision = precision_score(all_labels, all_predictions, average='macro')\n",
    "recall = recall_score(all_labels, all_predictions, average='macro')\n",
    "f1_micro = f1_score(all_labels, all_predictions, average='micro')\n",
    "f1_macro = f1_score(all_labels, all_predictions, average='micro')\n",
    "\n",
    "print(f'Accuracy on test data: {accuracy}')\n",
    "print(f'Precision on test data: {precision}')\n",
    "print(f'Recall on test data: {recall}')\n",
    "print(f'F1 micro score on test data: {f1_micro}')\n",
    "print(f'F1 macro score on test data: {f1_macro}')\n"
   ]
  },
  {
   "cell_type": "markdown",
   "id": "cd5d06bb",
   "metadata": {},
   "source": [
    "## Confusion Matrix - Test Set"
   ]
  },
  {
   "cell_type": "code",
   "execution_count": 51,
   "id": "99e4e46a",
   "metadata": {},
   "outputs": [
    {
     "data": {
      "image/png": "[encoded data removed]",
      "text/plain": [
       "<Figure size 1000x1000 with 2 Axes>"
      ]
     },
     "metadata": {},
     "output_type": "display_data"
    }
   ],
   "source": [
    "cm = confusion_matrix(all_labels, all_predictions)\n",
    "class_names = [1, 2, 3, 4]\n",
    "\n",
    "max_value = cm.max()\n",
    "\n",
    "plt.figure(figsize=(10,10))\n",
    "sns.heatmap(cm, annot=True, square=True, fmt='d', cmap='Blues', vmax=max_value, \n",
    "            xticklabels=class_names, yticklabels=class_names)\n",
    "plt.title('Confusion Matrix')\n",
    "plt.ylabel('True Label')\n",
    "plt.xlabel('Predicted Label')\n",
    "plt.show()\n"
   ]
  },
  {
   "cell_type": "markdown",
   "id": "866205a9",
   "metadata": {},
   "source": [
    "## Train Metrics"
   ]
  },
  {
   "cell_type": "code",
   "execution_count": 52,
   "id": "65236651",
   "metadata": {},
   "outputs": [
    {
     "name": "stdout",
     "output_type": "stream",
     "text": [
      "Accuracy on test data: 82.48\n",
      "Precision on test data: 82.39581821823145\n",
      "Recall on test data: 82.38967696912428\n",
      "F1 micro score on test data: 82.48\n",
      "F1 macro score on test data: 82.48\n"
     ]
    }
   ],
   "source": [
    "model.eval()\n",
    "\n",
    "all_labels = []\n",
    "all_predictions = []\n",
    "\n",
    "with torch.no_grad():\n",
    "    for texts, labels in train_loader:\n",
    "        texts = texts.to(device)\n",
    "        labels = labels.to(device)\n",
    "\n",
    "        predicted = model.predict(texts)\n",
    "\n",
    "        all_labels.extend(labels.cpu().numpy())\n",
    "        all_predictions.extend(predicted.cpu().numpy())\n",
    "\n",
    "accuracy = accuracy_score(all_labels, all_predictions)\n",
    "precision = precision_score(all_labels, all_predictions, average='macro')\n",
    "recall = recall_score(all_labels, all_predictions, average='macro')\n",
    "f1_micro = f1_score(all_labels, all_predictions, average='micro')\n",
    "f1_macro = f1_score(all_labels, all_predictions, average='macro')\n",
    "\n",
    "print(f'Accuracy on test data: {accuracy * 100}')\n",
    "print(f'Precision on test data: {precision * 100}')\n",
    "print(f'Recall on test data: {recall * 100}')\n",
    "print(f'F1 micro score on test data: {f1_micro * 100}')\n",
    "print(f'F1 macro score on test data: {f1_macro * 100}')\n"
   ]
  },
  {
   "cell_type": "markdown",
   "id": "fb4ca31d",
   "metadata": {},
   "source": [
    "## Confusion Matrix - Train Set"
   ]
  },
  {
   "cell_type": "code",
   "execution_count": 53,
   "id": "1d860aac",
   "metadata": {
    "scrolled": false
   },
   "outputs": [
    {
     "data": {
      "image/png": "[encoded data removed]",
      "text/plain": [
       "<Figure size 1000x1000 with 2 Axes>"
      ]
     },
     "metadata": {},
     "output_type": "display_data"
    }
   ],
   "source": [
    "cm = confusion_matrix(all_labels, all_predictions)\n",
    "class_names = [1, 2, 3, 4]\n",
    "\n",
    "max_value = cm.max()\n",
    "\n",
    "plt.figure(figsize=(10,10))\n",
    "sns.heatmap(cm, annot=True, square=True, fmt='d', cmap='Blues', vmax=max_value, \n",
    "            xticklabels=class_names, yticklabels=class_names)\n",
    "\n",
    "plt.title('Confusion Matrix')\n",
    "plt.ylabel('True Label')\n",
    "plt.xlabel('Predicted Label')\n",
    "plt.show()"
   ]
  },
  {
   "cell_type": "markdown",
   "id": "4c8f4d74",
   "metadata": {},
   "source": [
    "## Hyper Parameter Tuning"
   ]
  },
  {
   "cell_type": "code",
   "execution_count": 54,
   "id": "bfb565e0",
   "metadata": {},
   "outputs": [],
   "source": [
    "window_sizes = [1, 2, 3, 4, 5]\n",
    "model_performance = []"
   ]
  },
  {
   "cell_type": "code",
   "execution_count": 55,
   "id": "e4de76f8",
   "metadata": {},
   "outputs": [],
   "source": [
    "input_dim = len(vocab_index)\n",
    "embedding_dim = 100\n",
    "hidden_dim = 128\n",
    "output_dim = df_train[\"Class Index\"].nunique()\n",
    "batch_size = 128\n",
    "num_epochs = 10"
   ]
  },
  {
   "cell_type": "code",
   "execution_count": 56,
   "id": "aa4923ec",
   "metadata": {},
   "outputs": [
    {
     "name": "stdout",
     "output_type": "stream",
     "text": [
      "Window Size:  1\n",
      "\n",
      "Epoch 1, Loss: 1.317256934323888\n",
      "Epoch 2, Loss: 1.0531821846961975\n",
      "Epoch 3, Loss: 0.9339669453110665\n",
      "Epoch 4, Loss: 0.879897520800305\n",
      "Epoch 5, Loss: 0.8504556428854633\n",
      "Epoch 6, Loss: 0.8316874511682304\n",
      "Epoch 7, Loss: 0.8164105305246486\n",
      "Epoch 8, Loss: 0.8053824267569621\n",
      "Epoch 9, Loss: 0.7955959754385007\n",
      "Epoch 10, Loss: 0.7893920612942641\n",
      "Window Size:  2\n",
      "\n",
      "Epoch 1, Loss: 1.2900388863435976\n",
      "Epoch 2, Loss: 0.9892193420677428\n",
      "Epoch 3, Loss: 0.8713950594519354\n",
      "Epoch 4, Loss: 0.8198845337150963\n",
      "Epoch 5, Loss: 0.7925052840238923\n",
      "Epoch 6, Loss: 0.7746508899767688\n",
      "Epoch 7, Loss: 0.7627825205493125\n",
      "Epoch 8, Loss: 0.7519236624620522\n",
      "Epoch 9, Loss: 0.7449349047272069\n",
      "Epoch 10, Loss: 0.740305537630798\n",
      "Window Size:  3\n",
      "\n",
      "Epoch 1, Loss: 1.272754286504855\n",
      "Epoch 2, Loss: 0.9395283851653907\n",
      "Epoch 3, Loss: 0.822224113591917\n",
      "Epoch 4, Loss: 0.7767193332599227\n",
      "Epoch 5, Loss: 0.7529015487926022\n",
      "Epoch 6, Loss: 0.7360238622707925\n",
      "Epoch 7, Loss: 0.7258701855969277\n",
      "Epoch 8, Loss: 0.718574347010084\n",
      "Epoch 9, Loss: 0.7107184233179518\n",
      "Epoch 10, Loss: 0.7042681453334299\n",
      "Window Size:  4\n",
      "\n",
      "Epoch 1, Loss: 1.2658173719029517\n",
      "Epoch 2, Loss: 0.9327198623851606\n",
      "Epoch 3, Loss: 0.8113565562636988\n",
      "Epoch 4, Loss: 0.7590591702491615\n",
      "Epoch 5, Loss: 0.73256669872126\n",
      "Epoch 6, Loss: 0.7163130770063704\n",
      "Epoch 7, Loss: 0.7052367485252915\n",
      "Epoch 8, Loss: 0.6974322776885549\n",
      "Epoch 9, Loss: 0.6910658676153535\n",
      "Epoch 10, Loss: 0.6864231665422962\n",
      "Window Size:  5\n",
      "\n",
      "Epoch 1, Loss: 1.2470733914405676\n",
      "Epoch 2, Loss: 0.8904842058564447\n",
      "Epoch 3, Loss: 0.779789241256228\n",
      "Epoch 4, Loss: 0.7364927906139641\n",
      "Epoch 5, Loss: 0.7133004183222533\n",
      "Epoch 6, Loss: 0.7002856997167988\n",
      "Epoch 7, Loss: 0.6920459760222465\n",
      "Epoch 8, Loss: 0.6851747282751047\n",
      "Epoch 9, Loss: 0.6783172252831186\n",
      "Epoch 10, Loss: 0.6742273033804195\n"
     ]
    }
   ],
   "source": [
    "for window_size in window_sizes:\n",
    "    print(\"Window Size: \", window_size)\n",
    "    print()\n",
    "    svd = SVD_Embeddings(train_data_description, vocab_index, window_size)\n",
    "    co_matrix = svd.build_co_occurrence_matrix()\n",
    "    word_vectors_dict_svd = svd.svd_process(embedding_dim, save_flag)\n",
    "    \n",
    "    word_vectors_svd = np.array(list(word_vectors_dict_svd.values()))\n",
    "    word_vectors_svd_tensor = torch.tensor(word_vectors_svd, dtype=torch.float32)\n",
    "\n",
    "    model = LSTMClassifier(input_dim, embedding_dim, hidden_dim, output_dim, word_vectors_svd_tensor)\n",
    "    model = model.to(device)\n",
    "    criterion = nn.CrossEntropyLoss()\n",
    "    optimizer = optim.Adam(model.parameters(), lr=0.001)\n",
    "    \n",
    "    model.train()\n",
    "    for epoch in range(num_epochs):\n",
    "        running_loss = 0.0\n",
    "        for batch in train_loader:\n",
    "            optimizer.zero_grad()\n",
    "            inputs, targets = batch\n",
    "            inputs, targets = inputs.to(device), targets.to(device)  # Move inputs and targets to the device\n",
    "            output = model(inputs)\n",
    "            loss = criterion(output, targets)\n",
    "            loss.backward()\n",
    "            optimizer.step()\n",
    "            running_loss += loss.item()\n",
    "        print(f'Epoch {epoch+1}, Loss: {running_loss / len(train_loader)}')\n",
    "        \n",
    "    model.eval()\n",
    "    all_labels = []\n",
    "    all_predictions = []\n",
    "    with torch.no_grad():\n",
    "        for texts, labels in test_loader:\n",
    "            texts = texts.to(device)\n",
    "            labels = labels.to(device)\n",
    "            predicted = model.predict(texts)\n",
    "            all_labels.extend(labels.cpu().numpy())\n",
    "            all_predictions.extend(predicted.cpu().numpy())\n",
    "    \n",
    "    accuracy = accuracy_score(all_labels, all_predictions)\n",
    "    precision = precision_score(all_labels, all_predictions, average='weighted', zero_division=0)\n",
    "    recall = recall_score(all_labels, all_predictions, average='weighted')\n",
    "    f1_macro = f1_score(all_labels, all_predictions, average='macro')\n",
    "    f1_micro = f1_score(all_labels, all_predictions, average='micro')\n",
    "    \n",
    "    filename = f'./checkpoints/SVD_{window_size}.pth'\n",
    "    \n",
    "    model_performance.append({\n",
    "        'filename': filename,\n",
    "        'window_size': window_size,\n",
    "        'accuracy': accuracy,\n",
    "        'precision': precision,\n",
    "        'recall': recall,\n",
    "        'f1_macro': f1_macro,\n",
    "        'f1_micro': f1_micro,\n",
    "    })\n",
    "    \n",
    "    model.save_model(filename)\n",
    "    "
   ]
  },
  {
   "cell_type": "code",
   "execution_count": 58,
   "id": "d2960688",
   "metadata": {},
   "outputs": [
    {
     "name": "stdout",
     "output_type": "stream",
     "text": [
      "Window Size 1\n",
      "Accuracy:  0.7247368421052631\n",
      "Precision:  0.7318043558193509\n",
      "Recall:  0.7247368421052631\n",
      "F1 Macro:  0.7206423398741639\n",
      "F1 Micro:  0.7247368421052631\n",
      "\n",
      "Window Size 2\n",
      "Accuracy:  0.7689473684210526\n",
      "Precision:  0.7745677385956158\n",
      "Recall:  0.7689473684210526\n",
      "F1 Macro:  0.7680713922770068\n",
      "F1 Micro:  0.7689473684210525\n",
      "\n",
      "Window Size 3\n",
      "Accuracy:  0.7836842105263158\n",
      "Precision:  0.7894321699718885\n",
      "Recall:  0.7836842105263158\n",
      "F1 Macro:  0.7820802606085641\n",
      "F1 Micro:  0.7836842105263156\n",
      "\n",
      "Window Size 4\n",
      "Accuracy:  0.8032894736842106\n",
      "Precision:  0.8057104324719496\n",
      "Recall:  0.8032894736842106\n",
      "F1 Macro:  0.8037418040877977\n",
      "F1 Micro:  0.8032894736842106\n",
      "\n",
      "Window Size 5\n",
      "Accuracy:  0.8132894736842106\n",
      "Precision:  0.8159484750906595\n",
      "Recall:  0.8132894736842106\n",
      "F1 Macro:  0.8129673148225791\n",
      "F1 Micro:  0.8132894736842107\n",
      "\n"
     ]
    }
   ],
   "source": [
    "for model in model_performance:\n",
    "    print(\"Window Size\", model['window_size'])\n",
    "    print(\"Accuracy: \", model['accuracy'])\n",
    "    print(\"Precision: \", model['precision'])\n",
    "    print(\"Recall: \", model['recall'])\n",
    "    print(\"F1 Macro: \", model['f1_macro'])\n",
    "    print(\"F1 Micro: \", model['f1_micro'])\n",
    "    print()"
   ]
  }
 ],
 "metadata": {
  "kernelspec": {
   "display_name": "Python 3 (ipykernel)",
   "language": "python",
   "name": "python3"
  },
  "language_info": {
   "codemirror_mode": {
    "name": "ipython",
    "version": 3
   },
   "file_extension": ".py",
   "mimetype": "text/x-python",
   "name": "python",
   "nbconvert_exporter": "python",
   "pygments_lexer": "ipython3",
   "version": "3.11.6"
  }
 },
 "nbformat": 4,
 "nbformat_minor": 5
}
