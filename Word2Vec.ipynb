{
  "cells": [
    {
      "cell_type": "code",
      "execution_count": 1,
      "id": "d1a878b5",
      "metadata": {
        "id": "d1a878b5"
      },
      "outputs": [],
      "source": [
        "import pandas as pd\n",
        "import torch\n",
        "import re\n",
        "import nltk\n",
        "from nltk.tokenize import word_tokenize\n",
        "from collections import defaultdict\n",
        "import torch\n",
        "import torch.nn as nn\n",
        "import torch.optim as optim\n",
        "from torch.utils.data import DataLoader, Dataset\n",
        "import numpy as np\n",
        "import random\n",
        "from torch.nn.utils.rnn import pad_sequence\n",
        "from sklearn.metrics import accuracy_score, precision_score, recall_score, f1_score"
      ]
    },
    {
      "cell_type": "code",
      "execution_count": 6,
      "id": "612e16c3",
      "metadata": {
        "id": "612e16c3"
      },
      "outputs": [],
      "source": [
        "from model import EmbeddingTaskDataset, LSTMClassifier\n",
        "import torch.nn.functional as F\n"
      ]
    },
    {
      "cell_type": "code",
      "execution_count": 7,
      "id": "2bf581ed",
      "metadata": {
        "colab": {
          "base_uri": "https://localhost:8080/"
        },
        "id": "2bf581ed",
        "outputId": "94c54247-9c80-48d7-a9d1-82f06dc38caf"
      },
      "outputs": [
        {
          "name": "stderr",
          "output_type": "stream",
          "text": [
            "[nltk_data] Downloading package punkt to /root/nltk_data...\n",
            "[nltk_data]   Package punkt is already up-to-date!\n"
          ]
        },
        {
          "data": {
            "text/plain": [
              "True"
            ]
          },
          "execution_count": 7,
          "metadata": {},
          "output_type": "execute_result"
        }
      ],
      "source": [
        "nltk.download('punkt')\n"
      ]
    },
    {
      "cell_type": "code",
      "execution_count": 9,
      "id": "c4d49c64",
      "metadata": {
        "id": "c4d49c64"
      },
      "outputs": [],
      "source": [
        "train_data = '/dataset/train.csv'\n",
        "test_data = '/dataset/test.csv'\n",
        "\n",
        "df_train = pd.read_csv(train_data)\n",
        "df_test = pd.read_csv(test_data)\n"
      ]
    },
    {
      "cell_type": "code",
      "execution_count": null,
      "id": "1a931a84",
      "metadata": {
        "id": "1a931a84"
      },
      "outputs": [],
      "source": [
        "# df_train[\"Class Index\"]"
      ]
    },
    {
      "cell_type": "code",
      "execution_count": null,
      "id": "aa30c2a7",
      "metadata": {
        "id": "aa30c2a7"
      },
      "outputs": [],
      "source": [
        "# for i in df_train[\"Class Index\"]:\n",
        "#     if i==0:\n",
        "#         print(i)"
      ]
    },
    {
      "cell_type": "code",
      "execution_count": 10,
      "id": "bb89744b",
      "metadata": {
        "colab": {
          "base_uri": "https://localhost:8080/",
          "height": 206
        },
        "id": "bb89744b",
        "outputId": "342f7c25-5ac3-4010-94ee-264a9a60c228"
      },
      "outputs": [
        {
          "data": {
            "application/vnd.google.colaboratory.intrinsic+json": {
              "type": "dataframe",
              "variable_name": "df_train"
            },
            "text/html": [
              "\n",
              "  <div id=\"df-fd1c86b2-2f50-4019-8fb2-0ad07dab1b1a\" class=\"colab-df-container\">\n",
              "    <div>\n",
              "<style scoped>\n",
              "    .dataframe tbody tr th:only-of-type {\n",
              "        vertical-align: middle;\n",
              "    }\n",
              "\n",
              "    .dataframe tbody tr th {\n",
              "        vertical-align: top;\n",
              "    }\n",
              "\n",
              "    .dataframe thead th {\n",
              "        text-align: right;\n",
              "    }\n",
              "</style>\n",
              "<table border=\"1\" class=\"dataframe\">\n",
              "  <thead>\n",
              "    <tr style=\"text-align: right;\">\n",
              "      <th></th>\n",
              "      <th>Class Index</th>\n",
              "      <th>Description</th>\n",
              "    </tr>\n",
              "  </thead>\n",
              "  <tbody>\n",
              "    <tr>\n",
              "      <th>0</th>\n",
              "      <td>3</td>\n",
              "      <td>Reuters - Short-sellers, Wall Street's dwindli...</td>\n",
              "    </tr>\n",
              "    <tr>\n",
              "      <th>1</th>\n",
              "      <td>3</td>\n",
              "      <td>Reuters - Private investment firm Carlyle Grou...</td>\n",
              "    </tr>\n",
              "    <tr>\n",
              "      <th>2</th>\n",
              "      <td>3</td>\n",
              "      <td>Reuters - Soaring crude prices plus worries\\ab...</td>\n",
              "    </tr>\n",
              "    <tr>\n",
              "      <th>3</th>\n",
              "      <td>3</td>\n",
              "      <td>Reuters - Authorities have halted oil export\\f...</td>\n",
              "    </tr>\n",
              "    <tr>\n",
              "      <th>4</th>\n",
              "      <td>3</td>\n",
              "      <td>AFP - Tearaway world oil prices, toppling reco...</td>\n",
              "    </tr>\n",
              "  </tbody>\n",
              "</table>\n",
              "</div>\n",
              "    <div class=\"colab-df-buttons\">\n",
              "\n",
              "  <div class=\"colab-df-container\">\n",
              "    <button class=\"colab-df-convert\" onclick=\"convertToInteractive('df-fd1c86b2-2f50-4019-8fb2-0ad07dab1b1a')\"\n",
              "            title=\"Convert this dataframe to an interactive table.\"\n",
              "            style=\"display:none;\">\n",
              "\n",
              "  <svg xmlns=\"http://www.w3.org/2000/svg\" height=\"24px\" viewBox=\"0 -960 960 960\">\n",
              "    <path d=\"M120-120v-720h720v720H120Zm60-500h600v-160H180v160Zm220 220h160v-160H400v160Zm0 220h160v-160H400v160ZM180-400h160v-160H180v160Zm440 0h160v-160H620v160ZM180-180h160v-160H180v160Zm440 0h160v-160H620v160Z\"/>\n",
              "  </svg>\n",
              "    </button>\n",
              "\n",
              "  <style>\n",
              "    .colab-df-container {\n",
              "      display:flex;\n",
              "      gap: 12px;\n",
              "    }\n",
              "\n",
              "    .colab-df-convert {\n",
              "      background-color: #E8F0FE;\n",
              "      border: none;\n",
              "      border-radius: 50%;\n",
              "      cursor: pointer;\n",
              "      display: none;\n",
              "      fill: #1967D2;\n",
              "      height: 32px;\n",
              "      padding: 0 0 0 0;\n",
              "      width: 32px;\n",
              "    }\n",
              "\n",
              "    .colab-df-convert:hover {\n",
              "      background-color: #E2EBFA;\n",
              "      box-shadow: 0px 1px 2px rgba(60, 64, 67, 0.3), 0px 1px 3px 1px rgba(60, 64, 67, 0.15);\n",
              "      fill: #174EA6;\n",
              "    }\n",
              "\n",
              "    .colab-df-buttons div {\n",
              "      margin-bottom: 4px;\n",
              "    }\n",
              "\n",
              "    [theme=dark] .colab-df-convert {\n",
              "      background-color: #3B4455;\n",
              "      fill: #D2E3FC;\n",
              "    }\n",
              "\n",
              "    [theme=dark] .colab-df-convert:hover {\n",
              "      background-color: #434B5C;\n",
              "      box-shadow: 0px 1px 3px 1px rgba(0, 0, 0, 0.15);\n",
              "      filter: drop-shadow(0px 1px 2px rgba(0, 0, 0, 0.3));\n",
              "      fill: #FFFFFF;\n",
              "    }\n",
              "  </style>\n",
              "\n",
              "    <script>\n",
              "      const buttonEl =\n",
              "        document.querySelector('#df-fd1c86b2-2f50-4019-8fb2-0ad07dab1b1a button.colab-df-convert');\n",
              "      buttonEl.style.display =\n",
              "        google.colab.kernel.accessAllowed ? 'block' : 'none';\n",
              "\n",
              "      async function convertToInteractive(key) {\n",
              "        const element = document.querySelector('#df-fd1c86b2-2f50-4019-8fb2-0ad07dab1b1a');\n",
              "        const dataTable =\n",
              "          await google.colab.kernel.invokeFunction('convertToInteractive',\n",
              "                                                    [key], {});\n",
              "        if (!dataTable) return;\n",
              "\n",
              "        const docLinkHtml = 'Like what you see? Visit the ' +\n",
              "          '<a target=\"_blank\" href=https://colab.research.google.com/notebooks/data_table.ipynb>data table notebook</a>'\n",
              "          + ' to learn more about interactive tables.';\n",
              "        element.innerHTML = '';\n",
              "        dataTable['output_type'] = 'display_data';\n",
              "        await google.colab.output.renderOutput(dataTable, element);\n",
              "        const docLink = document.createElement('div');\n",
              "        docLink.innerHTML = docLinkHtml;\n",
              "        element.appendChild(docLink);\n",
              "      }\n",
              "    </script>\n",
              "  </div>\n",
              "\n",
              "\n",
              "<div id=\"df-6e68b27f-1db8-4ee9-829c-0ece974da8f7\">\n",
              "  <button class=\"colab-df-quickchart\" onclick=\"quickchart('df-6e68b27f-1db8-4ee9-829c-0ece974da8f7')\"\n",
              "            title=\"Suggest charts\"\n",
              "            style=\"display:none;\">\n",
              "\n",
              "<svg xmlns=\"http://www.w3.org/2000/svg\" height=\"24px\"viewBox=\"0 0 24 24\"\n",
              "     width=\"24px\">\n",
              "    <g>\n",
              "        <path d=\"M19 3H5c-1.1 0-2 .9-2 2v14c0 1.1.9 2 2 2h14c1.1 0 2-.9 2-2V5c0-1.1-.9-2-2-2zM9 17H7v-7h2v7zm4 0h-2V7h2v10zm4 0h-2v-4h2v4z\"/>\n",
              "    </g>\n",
              "</svg>\n",
              "  </button>\n",
              "\n",
              "<style>\n",
              "  .colab-df-quickchart {\n",
              "      --bg-color: #E8F0FE;\n",
              "      --fill-color: #1967D2;\n",
              "      --hover-bg-color: #E2EBFA;\n",
              "      --hover-fill-color: #174EA6;\n",
              "      --disabled-fill-color: #AAA;\n",
              "      --disabled-bg-color: #DDD;\n",
              "  }\n",
              "\n",
              "  [theme=dark] .colab-df-quickchart {\n",
              "      --bg-color: #3B4455;\n",
              "      --fill-color: #D2E3FC;\n",
              "      --hover-bg-color: #434B5C;\n",
              "      --hover-fill-color: #FFFFFF;\n",
              "      --disabled-bg-color: #3B4455;\n",
              "      --disabled-fill-color: #666;\n",
              "  }\n",
              "\n",
              "  .colab-df-quickchart {\n",
              "    background-color: var(--bg-color);\n",
              "    border: none;\n",
              "    border-radius: 50%;\n",
              "    cursor: pointer;\n",
              "    display: none;\n",
              "    fill: var(--fill-color);\n",
              "    height: 32px;\n",
              "    padding: 0;\n",
              "    width: 32px;\n",
              "  }\n",
              "\n",
              "  .colab-df-quickchart:hover {\n",
              "    background-color: var(--hover-bg-color);\n",
              "    box-shadow: 0 1px 2px rgba(60, 64, 67, 0.3), 0 1px 3px 1px rgba(60, 64, 67, 0.15);\n",
              "    fill: var(--button-hover-fill-color);\n",
              "  }\n",
              "\n",
              "  .colab-df-quickchart-complete:disabled,\n",
              "  .colab-df-quickchart-complete:disabled:hover {\n",
              "    background-color: var(--disabled-bg-color);\n",
              "    fill: var(--disabled-fill-color);\n",
              "    box-shadow: none;\n",
              "  }\n",
              "\n",
              "  .colab-df-spinner {\n",
              "    border: 2px solid var(--fill-color);\n",
              "    border-color: transparent;\n",
              "    border-bottom-color: var(--fill-color);\n",
              "    animation:\n",
              "      spin 1s steps(1) infinite;\n",
              "  }\n",
              "\n",
              "  @keyframes spin {\n",
              "    0% {\n",
              "      border-color: transparent;\n",
              "      border-bottom-color: var(--fill-color);\n",
              "      border-left-color: var(--fill-color);\n",
              "    }\n",
              "    20% {\n",
              "      border-color: transparent;\n",
              "      border-left-color: var(--fill-color);\n",
              "      border-top-color: var(--fill-color);\n",
              "    }\n",
              "    30% {\n",
              "      border-color: transparent;\n",
              "      border-left-color: var(--fill-color);\n",
              "      border-top-color: var(--fill-color);\n",
              "      border-right-color: var(--fill-color);\n",
              "    }\n",
              "    40% {\n",
              "      border-color: transparent;\n",
              "      border-right-color: var(--fill-color);\n",
              "      border-top-color: var(--fill-color);\n",
              "    }\n",
              "    60% {\n",
              "      border-color: transparent;\n",
              "      border-right-color: var(--fill-color);\n",
              "    }\n",
              "    80% {\n",
              "      border-color: transparent;\n",
              "      border-right-color: var(--fill-color);\n",
              "      border-bottom-color: var(--fill-color);\n",
              "    }\n",
              "    90% {\n",
              "      border-color: transparent;\n",
              "      border-bottom-color: var(--fill-color);\n",
              "    }\n",
              "  }\n",
              "</style>\n",
              "\n",
              "  <script>\n",
              "    async function quickchart(key) {\n",
              "      const quickchartButtonEl =\n",
              "        document.querySelector('#' + key + ' button');\n",
              "      quickchartButtonEl.disabled = true;  // To prevent multiple clicks.\n",
              "      quickchartButtonEl.classList.add('colab-df-spinner');\n",
              "      try {\n",
              "        const charts = await google.colab.kernel.invokeFunction(\n",
              "            'suggestCharts', [key], {});\n",
              "      } catch (error) {\n",
              "        console.error('Error during call to suggestCharts:', error);\n",
              "      }\n",
              "      quickchartButtonEl.classList.remove('colab-df-spinner');\n",
              "      quickchartButtonEl.classList.add('colab-df-quickchart-complete');\n",
              "    }\n",
              "    (() => {\n",
              "      let quickchartButtonEl =\n",
              "        document.querySelector('#df-6e68b27f-1db8-4ee9-829c-0ece974da8f7 button');\n",
              "      quickchartButtonEl.style.display =\n",
              "        google.colab.kernel.accessAllowed ? 'block' : 'none';\n",
              "    })();\n",
              "  </script>\n",
              "</div>\n",
              "\n",
              "    </div>\n",
              "  </div>\n"
            ],
            "text/plain": [
              "   Class Index                                        Description\n",
              "0            3  Reuters - Short-sellers, Wall Street's dwindli...\n",
              "1            3  Reuters - Private investment firm Carlyle Grou...\n",
              "2            3  Reuters - Soaring crude prices plus worries\\ab...\n",
              "3            3  Reuters - Authorities have halted oil export\\f...\n",
              "4            3  AFP - Tearaway world oil prices, toppling reco..."
            ]
          },
          "execution_count": 10,
          "metadata": {},
          "output_type": "execute_result"
        }
      ],
      "source": [
        "df_train.head()\n"
      ]
    },
    {
      "cell_type": "code",
      "execution_count": 11,
      "id": "d77bc5ef",
      "metadata": {
        "id": "d77bc5ef"
      },
      "outputs": [],
      "source": [
        "def preprocess_text(text):\n",
        "    text = text.lower()\n",
        "    text = re.sub(r'\\W+', ' ', text)\n",
        "    text = re.sub(r'\\s+', ' ', text)\n",
        "    tokens = word_tokenize(text)\n",
        "    return ['<START>'] + tokens + ['<END>']\n"
      ]
    },
    {
      "cell_type": "code",
      "execution_count": 12,
      "id": "d1e5f586",
      "metadata": {
        "id": "d1e5f586"
      },
      "outputs": [],
      "source": [
        "def build_vocab(corpus):\n",
        "    vocab = set()\n",
        "    for doc in corpus:\n",
        "        for word in doc:\n",
        "            vocab.add(word)\n",
        "    vocab_index = {word: i for i, word in enumerate(vocab)}\n",
        "    return vocab_index\n"
      ]
    },
    {
      "cell_type": "code",
      "execution_count": 13,
      "id": "56c8a913",
      "metadata": {
        "id": "56c8a913"
      },
      "outputs": [],
      "source": [
        "train_data_description = df_train[\"Description\"].tolist()[:20000]\n",
        "train_data_description = [preprocess_text(desc) for desc in train_data_description]\n",
        "\n",
        "test_data_description = df_test[\"Description\"].tolist()\n",
        "test_data_description = [preprocess_text(desc) for desc in test_data_description]\n"
      ]
    },
    {
      "cell_type": "code",
      "execution_count": 14,
      "id": "5ecf7026",
      "metadata": {
        "id": "5ecf7026"
      },
      "outputs": [],
      "source": [
        "vocab_index = build_vocab(train_data_description)"
      ]
    },
    {
      "cell_type": "code",
      "execution_count": 15,
      "id": "0913f402",
      "metadata": {
        "id": "0913f402"
      },
      "outputs": [],
      "source": [
        "def generate_skipgrams(sentence, window_size):\n",
        "    pairs = []\n",
        "    for i, target_word in enumerate(sentence):\n",
        "        context_indices = list(range(max(0, i - window_size), i)) + list(range(i+1, min(len(sentence), i + window_size + 1)))\n",
        "        for context_word in context_indices:\n",
        "            pairs.append((target_word, sentence[context_word]))\n",
        "\n",
        "    return pairs"
      ]
    },
    {
      "cell_type": "code",
      "execution_count": 16,
      "id": "4bc2c98e",
      "metadata": {
        "id": "4bc2c98e"
      },
      "outputs": [],
      "source": [
        "class SkipGramDataset(Dataset):\n",
        "    def __init__(self, data_indices, window_size=5):\n",
        "        self.data = []\n",
        "        for sentence in data_indices:\n",
        "            self.data.extend(generate_skipgrams(sentence, window_size))\n",
        "    def __len__(self):\n",
        "        return len(self.data)\n",
        "\n",
        "    def __getitem__(self, index):\n",
        "        return self.data[index]"
      ]
    },
    {
      "cell_type": "code",
      "execution_count": 17,
      "id": "3b7b9d56",
      "metadata": {
        "id": "3b7b9d56"
      },
      "outputs": [],
      "source": [
        "class Word2Vec_Embeddings(nn.Module):\n",
        "    def __init__(self, vocab_size, embedding_dim):\n",
        "        super(Word2Vec_Embeddings, self).__init__()\n",
        "        self.device = torch.device('cuda' if torch.cuda.is_available() else 'cpu')\n",
        "        self.embeddings = nn.Embedding(vocab_size, embedding_dim).to(self.device)\n",
        "        self.out_embeddings = nn.Embedding(vocab_size, embedding_dim).to(self.device)\n",
        "        self.vocab_size = vocab_size\n",
        "        self.embedding_dim = embedding_dim\n",
        "\n",
        "    def forward(self, target_word, context_word, negative_words):\n",
        "        target_embed = self.embeddings(target_word)\n",
        "        context_embed = self.out_embeddings(context_word)\n",
        "        neg_embed = self.out_embeddings(negative_words)\n",
        "        positive_score = torch.sum(torch.mul(target_embed, context_embed), dim=1)\n",
        "        negative_score = torch.sum(torch.mul(target_embed.unsqueeze(1), neg_embed), dim=2)\n",
        "        return positive_score, negative_score\n",
        "\n",
        "    def train(self, train_data_indices, num_epochs=10, batch_size=128, learning_rate=0.001, negative_samples=5, window = 5):\n",
        "        criterion = nn.BCEWithLogitsLoss()\n",
        "        optimizer = optim.Adam(self.parameters(), lr=learning_rate)\n",
        "\n",
        "        train_dataset = SkipGramDataset(train_data_indices, window)\n",
        "        train_loader = DataLoader(train_dataset, batch_size=batch_size, shuffle=True)\n",
        "\n",
        "        for epoch in range(num_epochs):\n",
        "            total_loss = 0\n",
        "            for target_word, context_word in train_loader:\n",
        "                target_word, context_word = target_word.to(self.device), context_word.to(self.device)\n",
        "                negative_words = torch.randint(0, self.vocab_size, (context_word.size(0), negative_samples), device=self.device)  # Ensure negative_words is on the correct device\n",
        "                positive_score, negative_score = self(target_word, context_word, negative_words)\n",
        "\n",
        "                positive_score = positive_score.view(-1, 1)\n",
        "                negative_score = negative_score.view(-1, 1)\n",
        "\n",
        "                targets = torch.cat([torch.ones_like(positive_score), torch.zeros_like(negative_score)], dim=0)\n",
        "                outputs = torch.cat([positive_score, negative_score], dim=0)\n",
        "\n",
        "                loss = criterion(outputs, targets)\n",
        "                optimizer.zero_grad()\n",
        "                loss.backward()\n",
        "                optimizer.step()\n",
        "                total_loss += loss.item()\n",
        "            print(f'Epoch {epoch+1}, Loss: {total_loss/len(train_loader):.4f}')\n",
        "\n",
        "    def get_embeddings(self, saveFlag, vocab_index):\n",
        "        embeddings = self.embeddings.weight.data.cpu().numpy()\n",
        "        embeddings = self.normalize_embeddings(embeddings)\n",
        "        self.word_vectors_dict = {word: embeddings[index] for word, index in vocab_index.items()}\n",
        "\n",
        "        if saveFlag == 1:\n",
        "            self.save_embeddings()\n",
        "\n",
        "        return self.word_vectors_dict\n",
        "\n",
        "    def normalize_embeddings(self, embeddings):\n",
        "        norms = np.linalg.norm(embeddings, axis=1, keepdims=True)\n",
        "        normalized_embeddings = embeddings / norms\n",
        "        return normalized_embeddings\n",
        "\n",
        "    def save_embeddings(self):\n",
        "        torch.save(self.embeddings.state_dict(), 'skip-gram-word-vectors.pt')\n",
        "\n",
        "    def load_embeddings(self, embeddings_path):\n",
        "        self.embeddings.load_state_dict(torch.load(embeddings_path))\n"
      ]
    },
    {
      "cell_type": "code",
      "execution_count": 18,
      "id": "55c81b88",
      "metadata": {
        "id": "55c81b88"
      },
      "outputs": [],
      "source": [
        "embedding_dim = 100\n",
        "save_flag = 1\n",
        "window = 5"
      ]
    },
    {
      "cell_type": "code",
      "execution_count": 19,
      "id": "1fc95556",
      "metadata": {
        "id": "1fc95556"
      },
      "outputs": [],
      "source": [
        "train_data_indices = [[vocab_index[word] for word in doc] for doc in train_data_description]\n",
        "\n",
        "w2v = Word2Vec_Embeddings(len(vocab_index), embedding_dim)\n",
        "w2v.train(train_data_indices, num_epochs=10, batch_size=128, learning_rate=0.001, negative_samples=5, window=5)\n"
      ]
    },
    {
      "cell_type": "code",
      "execution_count": 20,
      "id": "f81b0c42",
      "metadata": {
        "colab": {
          "base_uri": "https://localhost:8080/"
        },
        "id": "f81b0c42",
        "outputId": "c2959f92-51db-4d4a-c470-017281cba6b2"
      },
      "outputs": [
        {
          "name": "stdout",
          "output_type": "stream",
          "text": [
            "cuda\n"
          ]
        }
      ],
      "source": [
        "device = torch.device('cuda' if torch.cuda.is_available() else 'cpu')\n",
        "print(device)"
      ]
    },
    {
      "cell_type": "code",
      "execution_count": 21,
      "id": "e38c8aa3",
      "metadata": {
        "id": "e38c8aa3"
      },
      "outputs": [],
      "source": [
        "labels = df_train[\"Class Index\"].tolist()[:20000]\n",
        "\n",
        "labels_test = df_test[\"Class Index\"].tolist()\n",
        "\n",
        "word_vectors_dict_w2v = w2v.get_embeddings(0, vocab_index)\n"
      ]
    },
    {
      "cell_type": "code",
      "execution_count": null,
      "id": "179ff5f1",
      "metadata": {
        "id": "179ff5f1"
      },
      "outputs": [],
      "source": [
        "w2v.save_embeddings()"
      ]
    },
    {
      "cell_type": "code",
      "execution_count": 22,
      "id": "a567b104",
      "metadata": {
        "id": "a567b104"
      },
      "outputs": [],
      "source": [
        "input_dim = len(vocab_index)\n",
        "embedding_dim = 100\n",
        "hidden_dim = 128\n",
        "output_dim = df_train[\"Class Index\"].nunique()\n",
        "batch_size = 128\n",
        "num_epochs = 10"
      ]
    },
    {
      "cell_type": "code",
      "execution_count": null,
      "id": "b6a7b13c",
      "metadata": {
        "id": "b6a7b13c"
      },
      "outputs": [],
      "source": [
        "word_vectors_word2vec = np.array(list(word_vectors_dict_w2v.values()))\n",
        "word_vectors_w2v_tensor = torch.tensor(word_vectors_word2vec, dtype=torch.float32)"
      ]
    },
    {
      "cell_type": "code",
      "execution_count": 23,
      "id": "376ca166",
      "metadata": {
        "id": "376ca166"
      },
      "outputs": [],
      "source": [
        "train_dataset = EmbeddingTaskDataset(train_data_description, vocab_index, labels)\n",
        "train_loader = DataLoader(train_dataset, batch_size=batch_size, shuffle=True, collate_fn=train_dataset.collate_fn)\n",
        "\n",
        "test_dataset = EmbeddingTaskDataset(test_data_description, vocab_index, labels_test)\n",
        "test_loader = DataLoader(test_dataset, batch_size=batch_size, shuffle=True, collate_fn=test_dataset.collate_fn)\n"
      ]
    },
    {
      "cell_type": "code",
      "execution_count": null,
      "id": "2fc85841",
      "metadata": {
        "id": "2fc85841"
      },
      "outputs": [],
      "source": [
        "model = LSTMClassifier(input_dim, embedding_dim, hidden_dim, output_dim, word_vectors_w2v_tensor)\n",
        "criterion = nn.CrossEntropyLoss()\n",
        "optimizer = optim.Adam(model.parameters(), lr=0.001)\n",
        "\n",
        "model = model.to(device)"
      ]
    },
    {
      "cell_type": "code",
      "execution_count": null,
      "id": "19ade819",
      "metadata": {
        "colab": {
          "base_uri": "https://localhost:8080/"
        },
        "id": "19ade819",
        "outputId": "2344431f-0bd2-40bc-e340-e68568f53761"
      },
      "outputs": [
        {
          "name": "stdout",
          "output_type": "stream",
          "text": [
            "Epoch 1, Loss: 1.1698574583241894\n",
            "Epoch 2, Loss: 0.8138341451906095\n",
            "Epoch 3, Loss: 0.7239806492617176\n",
            "Epoch 4, Loss: 0.6844812825227239\n",
            "Epoch 5, Loss: 0.6658239349438126\n",
            "Epoch 6, Loss: 0.6519742023413349\n",
            "Epoch 7, Loss: 0.6445229414162362\n",
            "Epoch 8, Loss: 0.6376351440788075\n",
            "Epoch 9, Loss: 0.6326611565936143\n",
            "Epoch 10, Loss: 0.6272061541201962\n"
          ]
        }
      ],
      "source": [
        "model.train()\n",
        "for epoch in range(num_epochs):\n",
        "    running_loss = 0.0\n",
        "    for batch in train_loader:\n",
        "        optimizer.zero_grad()\n",
        "        inputs, targets = batch\n",
        "        inputs, targets = inputs.to(device), targets.to(device)\n",
        "        output = model(inputs)\n",
        "        loss = criterion(output, targets)\n",
        "        loss.backward()\n",
        "        optimizer.step()\n",
        "        running_loss += loss.item()\n",
        "    print(f'Epoch {epoch+1}, Loss: {running_loss / len(train_loader)}')"
      ]
    },
    {
      "cell_type": "code",
      "execution_count": null,
      "id": "b4fef641",
      "metadata": {
        "id": "b4fef641"
      },
      "outputs": [],
      "source": [
        "model.save_model(\"skip-gram-classification-model.pt\")"
      ]
    },
    {
      "cell_type": "markdown",
      "id": "01128d0c",
      "metadata": {
        "id": "01128d0c"
      },
      "source": [
        "## Test Metrics"
      ]
    },
    {
      "cell_type": "code",
      "execution_count": null,
      "id": "56241347",
      "metadata": {
        "id": "56241347"
      },
      "outputs": [],
      "source": [
        "import matplotlib.pyplot as plt\n",
        "from sklearn.metrics import confusion_matrix\n",
        "import seaborn as sns"
      ]
    },
    {
      "cell_type": "code",
      "execution_count": null,
      "id": "ecd843af",
      "metadata": {
        "colab": {
          "base_uri": "https://localhost:8080/"
        },
        "id": "ecd843af",
        "outputId": "125f53a5-7882-4734-f52f-86b042d92f5d"
      },
      "outputs": [
        {
          "name": "stdout",
          "output_type": "stream",
          "text": [
            "Accuracy on test data: 83.60526315789474\n",
            "Precision on test data: 83.68602527507412\n",
            "Recall on test data: 83.60526315789474\n",
            "F1 micro score on test data: 83.60526315789474\n",
            "F1 macro score on test data: 83.60526315789474\n"
          ]
        }
      ],
      "source": [
        "model.eval()\n",
        "\n",
        "all_labels = []\n",
        "all_predictions = []\n",
        "\n",
        "model.to(device)\n",
        "\n",
        "with torch.no_grad():\n",
        "    for texts, labels in test_loader:\n",
        "        texts = texts.to(device)\n",
        "        labels = labels.to(device)\n",
        "\n",
        "        predicted = model.predict(texts)\n",
        "\n",
        "        all_labels.extend(labels.cpu().numpy())\n",
        "        all_predictions.extend(predicted.cpu().numpy())\n",
        "\n",
        "accuracy = accuracy_score(all_labels, all_predictions)\n",
        "precision = precision_score(all_labels, all_predictions, average='macro')\n",
        "recall = recall_score(all_labels, all_predictions, average='macro')\n",
        "f1_micro = f1_score(all_labels, all_predictions, average='micro')\n",
        "f1_macro = f1_score(all_labels, all_predictions, average='macro')\n",
        "\n",
        "print(f'Accuracy on test data: {accuracy * 100}')\n",
        "print(f'Precision on test data: {precision * 100}')\n",
        "print(f'Recall on test data: {recall * 100}')\n",
        "print(f'F1 micro score on test data: {f1_micro * 100}')\n",
        "print(f'F1 macro score on test data: {f1_macro * 100}')\n"
      ]
    },
    {
      "cell_type": "markdown",
      "id": "0a05b8bc",
      "metadata": {
        "id": "0a05b8bc"
      },
      "source": [
        "## Confusion Matrix - Test Set"
      ]
    },
    {
      "cell_type": "code",
      "execution_count": null,
      "id": "4ff58a53",
      "metadata": {
        "colab": {
          "base_uri": "https://localhost:8080/",
          "height": 808
        },
        "id": "4ff58a53",
        "outputId": "b4127184-9661-47fe-9e16-07d323b6e246"
      },
      "outputs": [
        {
          "data": {
            "image/png": "[encoded data removed]",
            "text/plain": [
              "<Figure size 1000x1000 with 2 Axes>"
            ]
          },
          "metadata": {},
          "output_type": "display_data"
        }
      ],
      "source": [
        "cm = confusion_matrix(all_labels, all_predictions)\n",
        "class_names = [1, 2, 3, 4]\n",
        "\n",
        "max_value = cm.max()\n",
        "\n",
        "plt.figure(figsize=(10,10))\n",
        "sns.heatmap(cm, annot=True, square=True, fmt='d', cmap='Blues', vmax=max_value,\n",
        "            xticklabels=class_names, yticklabels=class_names)\n",
        "plt.title('Confusion Matrix')\n",
        "plt.ylabel('True Label')\n",
        "plt.xlabel('Predicted Label')\n",
        "plt.show()"
      ]
    },
    {
      "cell_type": "markdown",
      "id": "6057affa",
      "metadata": {
        "id": "6057affa"
      },
      "source": [
        "## Train Metrics"
      ]
    },
    {
      "cell_type": "code",
      "execution_count": null,
      "id": "e7a6d3b1",
      "metadata": {
        "colab": {
          "base_uri": "https://localhost:8080/"
        },
        "id": "e7a6d3b1",
        "outputId": "77a53086-7293-42d0-b098-b6e27ab6d649"
      },
      "outputs": [
        {
          "name": "stdout",
          "output_type": "stream",
          "text": [
            "Accuracy on test data: 84.59\n",
            "Precision on test data: 84.51202052032369\n",
            "Recall on test data: 84.62414315913979\n",
            "F1 micro score on test data: 84.59\n",
            "F1 macro score on test data: 84.59\n"
          ]
        }
      ],
      "source": [
        "model.eval()\n",
        "\n",
        "all_labels = []\n",
        "all_predictions = []\n",
        "\n",
        "with torch.no_grad():\n",
        "    for texts, labels in train_loader:\n",
        "        texts = texts.to(device)\n",
        "        labels = labels.to(device)\n",
        "\n",
        "        predicted = model.predict(texts)\n",
        "\n",
        "        all_labels.extend(labels.cpu().numpy())\n",
        "        all_predictions.extend(predicted.cpu().numpy())\n",
        "\n",
        "accuracy = accuracy_score(all_labels, all_predictions)\n",
        "precision = precision_score(all_labels, all_predictions, average='macro')\n",
        "recall = recall_score(all_labels, all_predictions, average='macro')\n",
        "f1_micro = f1_score(all_labels, all_predictions, average='micro')\n",
        "f1_macro = f1_score(all_labels, all_predictions, average='micro')\n",
        "\n",
        "print(f'Accuracy on test data: {accuracy * 100}')\n",
        "print(f'Precision on test data: {precision * 100}')\n",
        "print(f'Recall on test data: {recall * 100}')\n",
        "print(f'F1 micro score on test data: {f1_micro * 100}')\n",
        "print(f'F1 macro score on test data: {f1_macro * 100}')\n"
      ]
    },
    {
      "cell_type": "markdown",
      "id": "b85ab51c",
      "metadata": {
        "id": "b85ab51c"
      },
      "source": [
        "## Confusion Matrix - Train Set"
      ]
    },
    {
      "cell_type": "code",
      "execution_count": null,
      "id": "688936d0",
      "metadata": {
        "colab": {
          "base_uri": "https://localhost:8080/",
          "height": 808
        },
        "id": "688936d0",
        "outputId": "7556651d-1968-4f83-fe1f-309c3fac8bb9",
        "scrolled": false
      },
      "outputs": [
        {
          "data": {
            "image/png": "[encoded data removed]",
            "text/plain": [
              "<Figure size 1000x1000 with 2 Axes>"
            ]
          },
          "metadata": {},
          "output_type": "display_data"
        }
      ],
      "source": [
        "cm = confusion_matrix(all_labels, all_predictions)\n",
        "class_names = [1, 2, 3, 4]\n",
        "\n",
        "max_value = cm.max()\n",
        "\n",
        "plt.figure(figsize=(10,10))\n",
        "sns.heatmap(cm, annot=True, square=True, fmt='d', cmap='Blues', vmax=max_value,\n",
        "            xticklabels=class_names, yticklabels=class_names)\n",
        "plt.title('Confusion Matrix')\n",
        "plt.ylabel('True Label')\n",
        "plt.xlabel('Predicted Label')\n",
        "plt.show()"
      ]
    },
    {
      "cell_type": "markdown",
      "id": "e1dab27e",
      "metadata": {
        "id": "e1dab27e"
      },
      "source": [
        "## Hyper Parameter Tuning"
      ]
    },
    {
      "cell_type": "code",
      "execution_count": 24,
      "id": "bfb565e0",
      "metadata": {
        "id": "bfb565e0"
      },
      "outputs": [],
      "source": [
        "window_sizes = [1, 2, 3, 4, 5]\n",
        "model_performance = []"
      ]
    },
    {
      "cell_type": "code",
      "execution_count": 25,
      "id": "e791a542",
      "metadata": {
        "id": "e791a542"
      },
      "outputs": [],
      "source": [
        "input_dim = len(vocab_index)\n",
        "embedding_dim = 100\n",
        "hidden_dim = 128\n",
        "output_dim = df_train[\"Class Index\"].nunique()\n",
        "batch_size = 128\n",
        "num_epochs = 10"
      ]
    },
    {
      "cell_type": "code",
      "execution_count": 26,
      "id": "aa4923ec",
      "metadata": {
        "colab": {
          "base_uri": "https://localhost:8080/"
        },
        "id": "aa4923ec",
        "outputId": "cdefd29c-906a-4c62-f3d1-7f9a7acdbfac"
      },
      "outputs": [
        {
          "name": "stdout",
          "output_type": "stream",
          "text": [
            "Window Size:  1\n",
            "\n",
            "Epoch 1, Loss: 2.6047\n",
            "Epoch 2, Loss: 1.1251\n",
            "Epoch 3, Loss: 0.5862\n",
            "Epoch 4, Loss: 0.4020\n",
            "Epoch 5, Loss: 0.3107\n",
            "Epoch 6, Loss: 0.2538\n",
            "Epoch 7, Loss: 0.2136\n",
            "Epoch 8, Loss: 0.1845\n",
            "Epoch 9, Loss: 0.1619\n",
            "Epoch 10, Loss: 0.1442\n",
            "Epoch 1, Loss: 1.3306665914073872\n",
            "Epoch 2, Loss: 1.0907813481464508\n",
            "Epoch 3, Loss: 0.9716103904566188\n",
            "Epoch 4, Loss: 0.9166096441305367\n",
            "Epoch 5, Loss: 0.88056298198214\n",
            "Epoch 6, Loss: 0.8604551356309539\n",
            "Epoch 7, Loss: 0.8437466423982268\n",
            "Epoch 8, Loss: 0.8323237641601805\n",
            "Epoch 9, Loss: 0.8216863471990937\n",
            "Epoch 10, Loss: 0.8146197127688463\n",
            "Window Size:  2\n",
            "\n",
            "Epoch 1, Loss: 1.9059\n",
            "Epoch 2, Loss: 0.5436\n",
            "Epoch 3, Loss: 0.3381\n",
            "Epoch 4, Loss: 0.2598\n",
            "Epoch 5, Loss: 0.2155\n",
            "Epoch 6, Loss: 0.1877\n",
            "Epoch 7, Loss: 0.1691\n",
            "Epoch 8, Loss: 0.1559\n",
            "Epoch 9, Loss: 0.1464\n",
            "Epoch 10, Loss: 0.1393\n",
            "Epoch 1, Loss: 1.2168400481248358\n",
            "Epoch 2, Loss: 0.887606841743372\n",
            "Epoch 3, Loss: 0.7941920802851391\n",
            "Epoch 4, Loss: 0.753178650786163\n",
            "Epoch 5, Loss: 0.7261139651772323\n",
            "Epoch 6, Loss: 0.7104376470966703\n",
            "Epoch 7, Loss: 0.70010030535376\n",
            "Epoch 8, Loss: 0.6901361486714357\n",
            "Epoch 9, Loss: 0.6856592028004349\n",
            "Epoch 10, Loss: 0.6815317383237706\n",
            "Window Size:  3\n",
            "\n",
            "Epoch 1, Loss: 1.5007\n",
            "Epoch 2, Loss: 0.4001\n",
            "Epoch 3, Loss: 0.2733\n",
            "Epoch 4, Loss: 0.2215\n",
            "Epoch 5, Loss: 0.1944\n",
            "Epoch 6, Loss: 0.1778\n",
            "Epoch 7, Loss: 0.1664\n",
            "Epoch 8, Loss: 0.1579\n",
            "Epoch 9, Loss: 0.1516\n",
            "Epoch 10, Loss: 0.1467\n",
            "Epoch 1, Loss: 1.172586647568235\n",
            "Epoch 2, Loss: 0.8304772517483705\n",
            "Epoch 3, Loss: 0.7463698125189278\n",
            "Epoch 4, Loss: 0.7104159665715163\n",
            "Epoch 5, Loss: 0.6942569579288458\n",
            "Epoch 6, Loss: 0.679328657259607\n",
            "Epoch 7, Loss: 0.6705678428054616\n",
            "Epoch 8, Loss: 0.66220164185117\n",
            "Epoch 9, Loss: 0.6584424437231319\n",
            "Epoch 10, Loss: 0.6520646476441887\n",
            "Window Size:  4\n",
            "\n",
            "Epoch 1, Loss: 1.2643\n",
            "Epoch 2, Loss: 0.3394\n",
            "Epoch 3, Loss: 0.2447\n",
            "Epoch 4, Loss: 0.2077\n",
            "Epoch 5, Loss: 0.1883\n",
            "Epoch 6, Loss: 0.1759\n",
            "Epoch 7, Loss: 0.1671\n",
            "Epoch 8, Loss: 0.1607\n",
            "Epoch 9, Loss: 0.1559\n",
            "Epoch 10, Loss: 0.1523\n",
            "Epoch 1, Loss: 1.173975966158946\n",
            "Epoch 2, Loss: 0.8111049946706006\n",
            "Epoch 3, Loss: 0.7255718214496686\n",
            "Epoch 4, Loss: 0.6899865653104843\n",
            "Epoch 5, Loss: 0.6725698675319647\n",
            "Epoch 6, Loss: 0.6613604673154795\n",
            "Epoch 7, Loss: 0.651350272688896\n",
            "Epoch 8, Loss: 0.6446606342200261\n",
            "Epoch 9, Loss: 0.6422917455624623\n",
            "Epoch 10, Loss: 0.6359543272644091\n",
            "Window Size:  5\n",
            "\n",
            "Epoch 1, Loss: 1.1067\n",
            "Epoch 2, Loss: 0.3025\n",
            "Epoch 3, Loss: 0.2284\n",
            "Epoch 4, Loss: 0.2008\n",
            "Epoch 5, Loss: 0.1857\n",
            "Epoch 6, Loss: 0.1756\n",
            "Epoch 7, Loss: 0.1687\n",
            "Epoch 8, Loss: 0.1636\n",
            "Epoch 9, Loss: 0.1599\n",
            "Epoch 10, Loss: 0.1571\n",
            "Epoch 1, Loss: 1.1677175669153785\n",
            "Epoch 2, Loss: 0.80150547452793\n",
            "Epoch 3, Loss: 0.7136978309625274\n",
            "Epoch 4, Loss: 0.6813838007343802\n",
            "Epoch 5, Loss: 0.6623353772102647\n",
            "Epoch 6, Loss: 0.6508219310432483\n",
            "Epoch 7, Loss: 0.643651401920683\n",
            "Epoch 8, Loss: 0.6381165833230231\n",
            "Epoch 9, Loss: 0.6322355122323249\n",
            "Epoch 10, Loss: 0.6279968224513303\n"
          ]
        }
      ],
      "source": [
        "for window_size in window_sizes:\n",
        "    print(\"Window Size: \", window_size)\n",
        "    print()\n",
        "    w2v = Word2Vec_Embeddings(len(vocab_index), embedding_dim)\n",
        "    w2v.train(train_data_indices, num_epochs=10, batch_size=128, learning_rate=0.001, negative_samples=5, window=window_size)\n",
        "\n",
        "    word_vectors_dict_w2v = w2v.get_embeddings(0, vocab_index)\n",
        "    word_vectors_word2vec = np.array(list(word_vectors_dict_w2v.values()))\n",
        "    word_vectors_w2v_tensor = torch.tensor(word_vectors_word2vec, dtype=torch.float32)\n",
        "\n",
        "    model = LSTMClassifier(input_dim, embedding_dim, hidden_dim, output_dim, word_vectors_w2v_tensor)\n",
        "    criterion = nn.CrossEntropyLoss()\n",
        "    optimizer = optim.Adam(model.parameters(), lr=0.001)\n",
        "\n",
        "    model = model.to(device)\n",
        "\n",
        "    model.train()\n",
        "    for epoch in range(num_epochs):\n",
        "        running_loss = 0.0\n",
        "        for batch in train_loader:\n",
        "            optimizer.zero_grad()\n",
        "            inputs, targets = batch\n",
        "            inputs, targets = inputs.to(device), targets.to(device)\n",
        "            output = model(inputs)\n",
        "            loss = criterion(output, targets)\n",
        "            loss.backward()\n",
        "            optimizer.step()\n",
        "            running_loss += loss.item()\n",
        "        print(f'Epoch {epoch+1}, Loss: {running_loss / len(train_loader)}')\n",
        "\n",
        "    model.eval()\n",
        "\n",
        "    all_labels = []\n",
        "    all_predictions = []\n",
        "\n",
        "    with torch.no_grad():\n",
        "        for texts, labels in train_loader:\n",
        "            texts = texts.to(device)\n",
        "            labels = labels.to(device)\n",
        "\n",
        "            predicted = model.predict(texts)\n",
        "\n",
        "            all_labels.extend(labels.cpu().numpy())\n",
        "            all_predictions.extend(predicted.cpu().numpy())\n",
        "\n",
        "    accuracy = accuracy_score(all_labels, all_predictions)\n",
        "    precision = precision_score(all_labels, all_predictions, average='macro')\n",
        "    recall = recall_score(all_labels, all_predictions, average='macro')\n",
        "    f1_micro = f1_score(all_labels, all_predictions, average='micro')\n",
        "    f1_macro = f1_score(all_labels, all_predictions, average='micro')\n",
        "\n",
        "    filename = f'./W2V_{window_size}.pth'\n",
        "\n",
        "    model_performance.append({\n",
        "        'filename': filename,\n",
        "        'window_size': window_size,\n",
        "        'accuracy': accuracy,\n",
        "        'precision': precision,\n",
        "        'recall': recall,\n",
        "        'f1_macro': f1_macro,\n",
        "        'f1_micro': f1_micro,\n",
        "    })\n",
        "\n",
        "    model.save_model(filename)\n"
      ]
    },
    {
      "cell_type": "code",
      "execution_count": 27,
      "id": "d2960688",
      "metadata": {
        "colab": {
          "base_uri": "https://localhost:8080/"
        },
        "id": "d2960688",
        "outputId": "afb242b2-d55c-4c32-b36a-27177332098e"
      },
      "outputs": [
        {
          "data": {
            "text/plain": [
              "[{'filename': './W2V_1.pth',\n",
              "  'window_size': 1,\n",
              "  'accuracy': 0.73585,\n",
              "  'precision': 0.74429194088856,\n",
              "  'recall': 0.7373988587941094,\n",
              "  'f1_macro': 0.73585,\n",
              "  'f1_micro': 0.73585},\n",
              " {'filename': './W2V_2.pth',\n",
              "  'window_size': 2,\n",
              "  'accuracy': 0.82055,\n",
              "  'precision': 0.8205959926875066,\n",
              "  'recall': 0.819338511001692,\n",
              "  'f1_macro': 0.82055,\n",
              "  'f1_micro': 0.82055},\n",
              " {'filename': './W2V_3.pth',\n",
              "  'window_size': 3,\n",
              "  'accuracy': 0.8301,\n",
              "  'precision': 0.8287185488436077,\n",
              "  'recall': 0.8288884237824561,\n",
              "  'f1_macro': 0.8301,\n",
              "  'f1_micro': 0.8301},\n",
              " {'filename': './W2V_4.pth',\n",
              "  'window_size': 4,\n",
              "  'accuracy': 0.84225,\n",
              "  'precision': 0.8427273402289694,\n",
              "  'recall': 0.840700379990641,\n",
              "  'f1_macro': 0.84225,\n",
              "  'f1_micro': 0.84225},\n",
              " {'filename': './W2V_5.pth',\n",
              "  'window_size': 5,\n",
              "  'accuracy': 0.8446,\n",
              "  'precision': 0.8430850356721621,\n",
              "  'recall': 0.8444638766433025,\n",
              "  'f1_macro': 0.8446,\n",
              "  'f1_micro': 0.8446}]"
            ]
          },
          "execution_count": 27,
          "metadata": {},
          "output_type": "execute_result"
        }
      ],
      "source": [
        "model_performance"
      ]
    }
  ],
  "metadata": {
    "accelerator": "GPU",
    "colab": {
      "gpuType": "T4",
      "provenance": []
    },
    "kernelspec": {
      "display_name": "Python 3",
      "name": "python3"
    },
    "language_info": {
      "codemirror_mode": {
        "name": "ipython",
        "version": 3
      },
      "file_extension": ".py",
      "mimetype": "text/x-python",
      "name": "python",
      "nbconvert_exporter": "python",
      "pygments_lexer": "ipython3",
      "version": "3.11.6"
    }
  },
  "nbformat": 4,
  "nbformat_minor": 5
}
